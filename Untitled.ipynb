{
 "cells": [
  {
   "cell_type": "code",
   "execution_count": 1,
   "id": "5cb20fb7",
   "metadata": {},
   "outputs": [],
   "source": [
    "import cv2\n",
    "import math\n",
    "import argparse"
   ]
  },
  {
   "cell_type": "code",
   "execution_count": 2,
   "id": "914418f5",
   "metadata": {},
   "outputs": [],
   "source": [
    "faceProto = \"opencv_face_detector.pbtxt\"\n",
    "faceModel = \"opencv_face_detector_uint8.pb\"\n",
    "\n",
    "ageProto = \"age_deploy.prototxt\"\n",
    "ageModel = \"age_net.caffemodel\"\n",
    "\n",
    "genderProto = \"gender_deploy.prototxt\"\n",
    "genderModel = \"gender_net.caffemodel\"\n",
    "\n",
    "faceNet=cv2.dnn.readNet(faceModel, faceProto)\n",
    "ageNet=cv2.dnn.readNet(ageModel,ageProto)\n",
    "genderNet=cv2.dnn.readNet(genderModel,genderProto)\n",
    "\n",
    "MODEL_MEAN_VALUES = (78.4263377603, 87.7689143744, 114.895847746)\n",
    "ageList = ['(0-2)', '(4-6)', '(8-12)', '(15-20)', '(25-32)', '(38-43)', '(48-53)', '(60-100)']\n",
    "genderList = ['Male', 'Female']\n",
    "padding=20"
   ]
  },
  {
   "cell_type": "code",
   "execution_count": 3,
   "id": "29ed4ee0",
   "metadata": {},
   "outputs": [],
   "source": [
    "def faceBox(faceNet, frames):\n",
    "    frameHeight=frames.shape[0]\n",
    "    frameWidth=frames.shape[1]\n",
    "    blob=cv2.dnn.blobFromImage(frames, 1.0, (300,300), [104,117,123], swapRB=False)\n",
    "    faceNet.setInput(blob)\n",
    "    detection=faceNet.forward()\n",
    "    bboxs=[]\n",
    "    for i in range(detection.shape[2]):\n",
    "        confidence=detection[0,0,i,2]\n",
    "        if confidence>0.7:\n",
    "            x1=int(detection[0,0,i,3]*frameWidth)\n",
    "            y1=int(detection[0,0,i,4]*frameHeight)\n",
    "            x2=int(detection[0,0,i,5]*frameWidth)\n",
    "            y2=int(detection[0,0,i,6]*frameHeight)\n",
    "            bboxs.append([x1,y1,x2,y2])\n",
    "            cv2.rectangle(frames, (x1,y1),(x2,y2),(0,255,0), 1)\n",
    "    return frames, bboxs\n"
   ]
  },
  {
   "cell_type": "code",
   "execution_count": null,
   "id": "6695e990",
   "metadata": {},
   "outputs": [],
   "source": [
    "def DisplayVid():\n",
    "    cap = cv2.VideoCapture(0, cv2.CAP_DSHOW)\n",
    "    fourcc = cv2.VideoWriter_fourcc(*'XVID')\n",
    "    out = cv2.VideoWriter('testvideo', fourcc, 20.0, (640, 480))\n",
    "\n",
    "    cap.set(cv2.CAP_PROP_FRAME_WIDTH, 1920)\n",
    "    cap.set(cv2.CAP_PROP_FRAME_HEIGHT, 1080)\n",
    "\n",
    "    while (True):\n",
    "        ret, frame = cap.read()\n",
    "        frameFace, bboxes = faceBox(faceNet, frame)\n",
    "        gray = cv2.cvtColor(frame, cv2.COLOR_BGR2GRAY)\n",
    "        out.write(frame)\n",
    "\n",
    "        for bbox in bboxes:\n",
    "            face = frame[bbox[1]:bbox[3], bbox[0]:bbox[2]]\n",
    "\n",
    "            blob = cv2.dnn.blobFromImage(face, 1.0, (227, 227), MODEL_MEAN_VALUES, swapRB=False)\n",
    "            genderNet.setInput(blob)\n",
    "            genderPreds = genderNet.forward()\n",
    "            gender = genderList[genderPreds[0].argmax()]\n",
    "\n",
    "            ageNet.setInput(blob)\n",
    "            agePreds = ageNet.forward()\n",
    "            age = ageList[agePreds[0].argmax()]\n",
    "\n",
    "            label = \"{},{}\".format(gender, age)\n",
    "            cv2.rectangle(frameFace, (bbox[0], bbox[1] - 30), (bbox[2], bbox[1]), (0, 255, 0), -1)\n",
    "            cv2.putText(frameFace, label, (bbox[0], bbox[1] - 10), cv2.FONT_HERSHEY_SIMPLEX, 0.8, (255, 255, 255), 2,\n",
    "                        cv2.LINE_AA)\n",
    "        cv2.imshow(\"Age-Gender\", frameFace)\n",
    "        k = cv2.waitKey(1)\n",
    "        if cv2.waitKey(1) & 0xFF == ord('q'):\n",
    "            break\n",
    "\n",
    "        if not (cap.isOpened()):\n",
    "            print(\"not able to detect video device\")\n",
    "\n",
    "    cap.release()\n",
    "    out.release()\n",
    "    cv2.destroyAllWindows()\n",
    "\n",
    "DisplayVid()"
   ]
  },
  {
   "cell_type": "code",
   "execution_count": null,
   "id": "28682dd3",
   "metadata": {},
   "outputs": [],
   "source": []
  }
 ],
 "metadata": {
  "kernelspec": {
   "display_name": "Python 3 (ipykernel)",
   "language": "python",
   "name": "python3"
  },
  "language_info": {
   "codemirror_mode": {
    "name": "ipython",
    "version": 3
   },
   "file_extension": ".py",
   "mimetype": "text/x-python",
   "name": "python",
   "nbconvert_exporter": "python",
   "pygments_lexer": "ipython3",
   "version": "3.10.11"
  }
 },
 "nbformat": 4,
 "nbformat_minor": 5
}
